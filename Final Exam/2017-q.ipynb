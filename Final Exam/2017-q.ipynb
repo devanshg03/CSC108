{
 "cells": [
  {
   "cell_type": "markdown",
   "metadata": {},
   "source": [
    "Question 1: Errors"
   ]
  },
  {
   "cell_type": "code",
   "execution_count": 8,
   "metadata": {},
   "outputs": [],
   "source": [
    "# (a)\n",
    "stations = ('Pape', 'King', 'Kipling')\n",
    "# stations[0] = 'St. George'\n",
    "\n",
    "# (b)\n",
    "st_to_line = {'Chester': 2,\n",
    "              'Davisville': 1,\n",
    "              'Union': 1}\n",
    "# if st_to_line['Dundas'] == 1:\n",
    "#    print('Younge-University')\n",
    "\n",
    "# (c)\n",
    "i = 0\n",
    "lines = [1, 2, 3, 4]\n",
    "# while lines[i] != 5 and i < len(lines):\n",
    "#     print(lines[i])\n",
    "#     i += 1\n",
    "\n",
    "# (d)\n",
    "stops = ['Christie', 'Bay', 'Spadina']\n",
    "# sorted_stops = stops.sort()\n",
    "# reversed_stops = sorted_stops.reverse()\n",
    "\n",
    "# (e)\n",
    "station = 'Sheppard West'\n",
    "# station[-4] = 'E'\n",
    "# station[-3] = 'BaseException'\n"
   ]
  },
  {
   "cell_type": "markdown",
   "metadata": {},
   "source": [
    "Question 2: guess"
   ]
  },
  {
   "cell_type": "code",
   "execution_count": 17,
   "metadata": {},
   "outputs": [
    {
     "data": {
      "text/plain": [
       "False"
      ]
     },
     "execution_count": 17,
     "metadata": {},
     "output_type": "execute_result"
    }
   ],
   "source": [
    "def get_and_verify_password(password: str) -> bool:\n",
    "    \"\"\" Repeatedly prompt the user to enter their password until they get it\n",
    "    correct or until they guess wrong three times.  Return True if and only if\n",
    "    the password was entered correctly.\n",
    "    \"\"\"\n",
    "    msg = 'Enter your password: '\n",
    "    guess = input(msg)\n",
    "    num_guesses = 1\n",
    "    while guess != password and num_guesses < 3:\n",
    "        guess = input(msg)\n",
    "        num_guesses += 1\n",
    "    return guess == password\n",
    "\n",
    "get_and_verify_password('^S33kReT')"
   ]
  },
  {
   "cell_type": "markdown",
   "metadata": {},
   "source": [
    "Question 3: Ordering System"
   ]
  },
  {
   "cell_type": "code",
   "execution_count": 21,
   "metadata": {},
   "outputs": [
    {
     "data": {
      "text/plain": [
       "TestResults(failed=0, attempted=11)"
      ]
     },
     "execution_count": 21,
     "metadata": {},
     "output_type": "execute_result"
    }
   ],
   "source": [
    "# (a)\n",
    "def get_num_orders(meal_to_tables: dict[str, list[int]], meal: str) -> int:\n",
    "    \"\"\" Return the number of orders for meal in meal_to_tables.\n",
    "    \n",
    "    >>> m_to_t = {'stew': [4, 1], 'eggs': [6]}\n",
    "    >>> get_num_orders(m_to_t, 'stew')\n",
    "    2\n",
    "\n",
    "    >>> get_num_orders(m_to_t, 'eggs')\n",
    "    1\n",
    "\n",
    "    >>> get_num_orders(m_to_t, 'brussel sprouts')\n",
    "    0\n",
    "    \"\"\"\n",
    "    if meal not in meal_to_tables:\n",
    "        return 0\n",
    "    else: \n",
    "        return len(meal_to_tables[meal])\n",
    "    \n",
    "\n",
    "# (b)\n",
    "def order_meal(meal_to_tables: dict[str, list[int]], meal: str, table: int) -> None:\n",
    "    \"\"\"Modify meal_to_tables to include a new order for meal at table. Place \n",
    "    table at the end of the list of table number(s) associated with meal.\n",
    "\n",
    "    >>> m_to_t = {}\n",
    "    >>> order_meal(m_to_t, 'stew', 4)\n",
    "    >>> m_to_t == {'stew': [4]}\n",
    "    True\n",
    "\n",
    "    >>> order_meal(m_to_t, 'stew', 1)\n",
    "    >>> m_to_t == {'stew': [4, 1]}\n",
    "    True\n",
    "\n",
    "    >>> order_meal(m_to_t, 'eggs', 6)\n",
    "    >>> m_to_t == {'stew': [4, 1], 'eggs': [6]}\n",
    "    True\n",
    "    \"\"\"\n",
    "    if meal in meal_to_tables:\n",
    "        meal_to_tables[meal].append(table)\n",
    "    else:\n",
    "        meal_to_tables[meal] = [table]\n",
    "\n",
    "import doctest\n",
    "doctest.testmod()"
   ]
  },
  {
   "cell_type": "markdown",
   "metadata": {},
   "source": [
    "Question 4: Char Count"
   ]
  },
  {
   "cell_type": "code",
   "execution_count": 25,
   "metadata": {},
   "outputs": [
    {
     "data": {
      "text/plain": [
       "[1, 2, 0]"
      ]
     },
     "execution_count": 25,
     "metadata": {},
     "output_type": "execute_result"
    }
   ],
   "source": [
    "def char_count(s: str, words: list[str]) -> list[int]:\n",
    "    \"\"\" Return a new list in which each item is the number of times\n",
    "    that the character at the corresponding position of s appears in \n",
    "    the string at the corresponding position of words.\n",
    "    Lower and uppercases are considered the different.\n",
    "    \n",
    "    Precondition: len(s) == len(words)\n",
    "\n",
    "    >>> char_count('anb', ['apple', 'banana', 'orange'])\n",
    "    [1, 2, 0]\n",
    "    \n",
    "    >>> char_count('xdaao', ['cat', 'dog', 'cat', 'banana', 'cool'])\n",
    "    [0, 1, 1, 3, 2]\n",
    "\n",
    "    >>> char_count('fW', ['sandwiches', 'waffles'])\n",
    "    [0, 0]\n",
    "    \"\"\"\n",
    "    char_list = []\n",
    "    for i in range(len(s)):\n",
    "        char_count = 0\n",
    "        for j in range(len(words[i])):\n",
    "            if words[i][j] == s[i]:\n",
    "                char_count += 1\n",
    "        char_list.append(char_count)\n",
    "    return char_list\n",
    "\n",
    "import doctest\n",
    "doctest.testmod()"
   ]
  },
  {
   "cell_type": "markdown",
   "metadata": {},
   "source": [
    "Question 5: Erroneous Code"
   ]
  },
  {
   "cell_type": "code",
   "execution_count": 30,
   "metadata": {},
   "outputs": [
    {
     "data": {
      "text/plain": [
       "TestResults(failed=0, attempted=20)"
      ]
     },
     "execution_count": 30,
     "metadata": {},
     "output_type": "execute_result"
    }
   ],
   "source": [
    "def increment_sublist_buggy(L: list[int], start: int, end: int) -> None:\n",
    "    \"\"\"Modify L so that each element whose index is in the range from start (inclusive)\n",
    "    to end (exclusive) is incremented by 1.\n",
    "    \n",
    "    Precondition: 0 <= start < end <= len(L)\n",
    "\n",
    "    >>> a_list = [10, 20, 30, 40, 50, 60]\n",
    "    >>> increment_sublist_buggy(a_list, 0, 3)\n",
    "    >>> a_list == [10, 20, 30, 40, 50, 60]\n",
    "    True\n",
    "    \"\"\"\n",
    "    for value in L[start:end]:\n",
    "        value += 1\n",
    "\n",
    "def increment_sublist(L: list[int], start: int, end: int) -> None:\n",
    "    \"\"\"Modify L so that each element whose index is in the range from start (inclusive)\n",
    "    to end (exclusive) is incremented by 1.\n",
    "    \n",
    "    Precondition: 0 <= start < end <= len(L)\n",
    "\n",
    "    >>> a_list = [10, 20, 30, 40, 50, 60]\n",
    "    >>> increment_sublist(a_list, 0, 3)\n",
    "    >>> a_list\n",
    "    [11, 21, 31, 40, 50, 60]\n",
    "    \"\"\"\n",
    "    for i in range(start, end):\n",
    "        L[i] += 1\n",
    "\n",
    "import doctest\n",
    "doctest.testmod()"
   ]
  },
  {
   "cell_type": "markdown",
   "metadata": {},
   "source": [
    "Question 7: Collect Sublists"
   ]
  },
  {
   "cell_type": "code",
   "execution_count": 38,
   "metadata": {},
   "outputs": [
    {
     "data": {
      "text/plain": [
       "[[15, 20], [30, 40]]"
      ]
     },
     "execution_count": 38,
     "metadata": {},
     "output_type": "execute_result"
    }
   ],
   "source": [
    "def collect_sublists(L: list[list[int]], threshold: int) -> list[list[int]]:\n",
    "    \"\"\"Return a new list containing the sublists of L in which all the values\n",
    "    in the sublist are above threshold.\n",
    "    \n",
    "    Precondition: all sublists of L have length >= 1\n",
    "\n",
    "    >>> collect_sublists([[1, 2, 3], [4, 5, 6], [7, 8, 9]], 5)\n",
    "    [[7, 8, 9]]\n",
    "\n",
    "    >>> collect_sublists([[15, 20], [10, 11], [30, 40], [7, 17]], 10)\n",
    "    [[15, 20], [30, 40]]\n",
    "    \"\"\"\n",
    "    new_sublists = []\n",
    "    for sublist in L:\n",
    "        all_above = True\n",
    "        for value in sublist:\n",
    "            if value <= threshold:\n",
    "                all_above = False\n",
    "        if all_above:\n",
    "            new_sublists.append(sublist)\n",
    "    return new_sublists\n",
    "\n",
    "import doctest\n",
    "doctest.testmod()"
   ]
  }
 ],
 "metadata": {
  "kernelspec": {
   "display_name": "Python 3",
   "language": "python",
   "name": "python3"
  },
  "language_info": {
   "codemirror_mode": {
    "name": "ipython",
    "version": 3
   },
   "file_extension": ".py",
   "mimetype": "text/x-python",
   "name": "python",
   "nbconvert_exporter": "python",
   "pygments_lexer": "ipython3",
   "version": "3.11.7"
  }
 },
 "nbformat": 4,
 "nbformat_minor": 2
}
