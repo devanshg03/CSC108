{
 "cells": [
  {
   "cell_type": "code",
   "execution_count": 12,
   "metadata": {},
   "outputs": [
    {
     "data": {
      "text/plain": [
       "[(8, 'language'),\n",
       " (6, 'python'),\n",
       " (6, 'learn.'),\n",
       " (4, 'much'),\n",
       " (3, 'fun'),\n",
       " (3, 'The'),\n",
       " (2, 'to'),\n",
       " (2, 'so'),\n",
       " (2, 'is')]"
      ]
     },
     "execution_count": 12,
     "metadata": {},
     "output_type": "execute_result"
    }
   ],
   "source": [
    "text = \"The python language is so much fun to learn.\"\n",
    "\n",
    "def sort_word( text: str) -> list[(int, str)]:\n",
    "    result = []\n",
    "    words = text.split()\n",
    "    for word in words:\n",
    "        result.append((len(word), word))\n",
    "    result.sort(reverse=True)\n",
    "    return result\n",
    "\n",
    "sort_word(text)"
   ]
  }
 ],
 "metadata": {
  "kernelspec": {
   "display_name": "Python 3",
   "language": "python",
   "name": "python3"
  },
  "language_info": {
   "codemirror_mode": {
    "name": "ipython",
    "version": 3
   },
   "file_extension": ".py",
   "mimetype": "text/x-python",
   "name": "python",
   "nbconvert_exporter": "python",
   "pygments_lexer": "ipython3",
   "version": "3.11.7"
  }
 },
 "nbformat": 4,
 "nbformat_minor": 2
}
