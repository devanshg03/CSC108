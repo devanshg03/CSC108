{
 "cells": [
  {
   "cell_type": "markdown",
   "metadata": {},
   "source": [
    "Worksheet 20"
   ]
  },
  {
   "cell_type": "code",
   "execution_count": 18,
   "metadata": {},
   "outputs": [],
   "source": [
    "name_to_binomial = {'human': 'Homo sapiens',\n",
    "                      'dog': 'Canis familiaris',\n",
    "                      'narwhal': 'Monodon monoceros'}"
   ]
  },
  {
   "cell_type": "code",
   "execution_count": null,
   "metadata": {},
   "outputs": [],
   "source": [
    "'dog' in name_to_binomial # True\n",
    "'Canis familiaris' in name_to_binomial # False\n",
    "name_to_binomial['0'] == 'human' # False\n",
    "len(name_to_binomial) == 3 # True\n",
    "name_to_binomial == {'dog': 'Canis familiaris', 'narwhal': 'Monodon monoceros', 'human': 'Homo sapiens'} # True"
   ]
  },
  {
   "cell_type": "markdown",
   "metadata": {},
   "source": [
    "Worksheet 22"
   ]
  },
  {
   "cell_type": "code",
   "execution_count": 1,
   "metadata": {},
   "outputs": [],
   "source": [
    "animal_to_locomotion = {'fish': ['swim'],\n",
    "                        'kangaroo': ['hop'],\n",
    "                        'frog': ['swim', 'hop']}"
   ]
  },
  {
   "cell_type": "code",
   "execution_count": 2,
   "metadata": {},
   "outputs": [
    {
     "data": {
      "text/plain": [
       "{'fish': ['swim'],\n",
       " 'kangaroo': ['hop'],\n",
       " 'frog': ['swim', 'hop'],\n",
       " 'human': ['swim', 'run', 'walk', 'airplane']}"
      ]
     },
     "execution_count": 2,
     "metadata": {},
     "output_type": "execute_result"
    }
   ],
   "source": [
    "\n",
    "animal_to_locomotion['human'] = ['swim', 'run', 'walk', 'airplane']\n",
    "animal_to_locomotion"
   ]
  },
  {
   "cell_type": "code",
   "execution_count": 3,
   "metadata": {},
   "outputs": [
    {
     "ename": "KeyError",
     "evalue": "'orangutan'",
     "output_type": "error",
     "traceback": [
      "\u001b[0;31m---------------------------------------------------------------------------\u001b[0m",
      "\u001b[0;31mKeyError\u001b[0m                                  Traceback (most recent call last)",
      "Cell \u001b[0;32mIn[3], line 1\u001b[0m\n\u001b[0;32m----> 1\u001b[0m \u001b[43manimal_to_locomotion\u001b[49m\u001b[43m[\u001b[49m\u001b[38;5;124;43m'\u001b[39;49m\u001b[38;5;124;43morangutan\u001b[39;49m\u001b[38;5;124;43m'\u001b[39;49m\u001b[43m]\u001b[49m\u001b[38;5;241m.\u001b[39mappend(\u001b[38;5;124m'\u001b[39m\u001b[38;5;124mbrachiate\u001b[39m\u001b[38;5;124m'\u001b[39m)\n\u001b[1;32m      2\u001b[0m animal_to_locomotion\n",
      "\u001b[0;31mKeyError\u001b[0m: 'orangutan'"
     ]
    }
   ],
   "source": [
    "animal_to_locomotion['orangutan'].append('brachiate')\n",
    "animal_to_locomotion"
   ]
  },
  {
   "cell_type": "code",
   "execution_count": 4,
   "metadata": {},
   "outputs": [
    {
     "data": {
      "text/plain": [
       "{'fish': ['swim'],\n",
       " 'kangaroo': ['hop', 'airplane'],\n",
       " 'frog': ['swim', 'hop'],\n",
       " 'human': ['swim', 'run', 'walk', 'airplane']}"
      ]
     },
     "execution_count": 4,
     "metadata": {},
     "output_type": "execute_result"
    }
   ],
   "source": [
    "animal_to_locomotion['kangaroo'].append('airplane')\n",
    "animal_to_locomotion"
   ]
  },
  {
   "cell_type": "code",
   "execution_count": 5,
   "metadata": {},
   "outputs": [
    {
     "data": {
      "text/plain": [
       "{'fish': ['swim'],\n",
       " 'kangaroo': ['hop', 'airplane'],\n",
       " 'frog': ['tapdance'],\n",
       " 'human': ['swim', 'run', 'walk', 'airplane']}"
      ]
     },
     "execution_count": 5,
     "metadata": {},
     "output_type": "execute_result"
    }
   ],
   "source": [
    "animal_to_locomotion['frog'] = ['tapdance']\n",
    "animal_to_locomotion"
   ]
  },
  {
   "cell_type": "code",
   "execution_count": 6,
   "metadata": {},
   "outputs": [
    {
     "data": {
      "text/plain": [
       "{'fish': ['swim'],\n",
       " 'kangaroo': ['hop', 'airplane'],\n",
       " 'frog': ['tapdance'],\n",
       " 'human': ['swim', 'run', 'walk', 'airplane'],\n",
       " 'dolphin': ['swim']}"
      ]
     },
     "execution_count": 6,
     "metadata": {},
     "output_type": "execute_result"
    }
   ],
   "source": [
    "animal_to_locomotion['dolphin'] = animal_to_locomotion['fish']\n",
    "animal_to_locomotion"
   ]
  }
 ],
 "metadata": {
  "kernelspec": {
   "display_name": "Python 3",
   "language": "python",
   "name": "python3"
  },
  "language_info": {
   "codemirror_mode": {
    "name": "ipython",
    "version": 3
   },
   "file_extension": ".py",
   "mimetype": "text/x-python",
   "name": "python",
   "nbconvert_exporter": "python",
   "pygments_lexer": "ipython3",
   "version": "3.11.7"
  }
 },
 "nbformat": 4,
 "nbformat_minor": 2
}
